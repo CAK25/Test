{
 "cells": [
  {
   "cell_type": "code",
   "execution_count": 2,
   "id": "46e2d28a",
   "metadata": {},
   "outputs": [
    {
     "data": {
      "image/png": "[encoded data removed]",
      "text/plain": [
       "<Figure size 432x288 with 2 Axes>"
      ]
     },
     "metadata": {
      "needs_background": "light"
     },
     "output_type": "display_data"
    }
   ],
   "source": [
    "# Import the required modules\n",
    "import numpy as np\n",
    "import math\n",
    "import matplotlib.pyplot as plt\n",
    "%matplotlib inline\n",
    "from scipy.integrate import odeint\n",
    "\n",
    "import time\n",
    "\n",
    "def dxdt(x,t,r):\n",
    "    dxdt = r*x+2*x**3-x**5;\n",
    "    return dxdt\n",
    "\n",
    "timesteps = np.arange(0,40,0.01)\n",
    "x0 = 0.2  # the initial condition\n",
    "\n",
    "# Set variables to collect later.\n",
    "out_x = out_t = out_r= [];\n",
    "\n",
    "for r in (-2,-1,0,1,2,1,0,-1,-2):\n",
    "\n",
    "    # args must be a tuple, which is annnoying. A 1 element tuple needs a comma.\n",
    "    # This doesn't effect tuples of more elements\n",
    "    x = odeint(dxdt, x0, timesteps, args=(r,))\n",
    "\n",
    "    # Collect data for plotting\n",
    "    out_x = np.append(out_x,x);\n",
    "    out_t = np.append(out_t,timesteps);\n",
    "    out_r = np.append(out_r,[r]*len(timesteps));\n",
    "    \n",
    "    # Update time steps and initial conditions for next loop\n",
    "    timesteps = timesteps+40;\n",
    "    x0 = x[-1] + 10**-12;\n",
    "    \n",
    "# Plot result. Have to do some fancy foot work to get a discrete colorbar\n",
    "plt.rcParams.update({'font.size': 14})  # increase the font size\n",
    "plt.xlabel(\"time\")\n",
    "plt.ylabel(\"x\")\n",
    "from matplotlib import colors\n",
    "cmap = plt.cm.rainbow\n",
    "norm = colors.BoundaryNorm(np.arange(-2.5,3.5,1), cmap.N)\n",
    "plt.scatter(out_t, out_x, c= out_r,cmap=cmap, norm=norm);\n",
    "cbar = plt.colorbar(ticks=np.linspace(-2, 3, 6))\n",
    "cbar.set_label('r values');\n"
   ]
  },
  {
   "cell_type": "code",
   "execution_count": null,
   "id": "d3a4edf6",
   "metadata": {},
   "outputs": [],
   "source": []
  }
 ],
 "metadata": {
  "kernelspec": {
   "display_name": "Python 3 (ipykernel)",
   "language": "python",
   "name": "python3"
  },
  "language_info": {
   "codemirror_mode": {
    "name": "ipython",
    "version": 3
   },
   "file_extension": ".py",
   "mimetype": "text/x-python",
   "name": "python",
   "nbconvert_exporter": "python",
   "pygments_lexer": "ipython3",
   "version": "3.9.12"
  }
 },
 "nbformat": 4,
 "nbformat_minor": 5
}
